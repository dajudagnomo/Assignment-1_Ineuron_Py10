{
 "cells": [
  {
   "cell_type": "markdown",
   "metadata": {},
   "source": [
    "### Task 1"
   ]
  },
  {
   "cell_type": "code",
   "execution_count": 55,
   "metadata": {},
   "outputs": [
    {
     "name": "stdout",
     "output_type": "stream",
     "text": [
      "Hello World\n"
     ]
    }
   ],
   "source": [
    "print('Hello World')\n",
    "      "
   ]
  },
  {
   "cell_type": "markdown",
   "metadata": {},
   "source": [
    "#### Write a program which will find all such numbers which are divisible by 7 but are not a multiple of 5, between 2000 and 3200 (both included). The numbers obtained should be printed in a comma-separated sequence on a single line."
   ]
  },
  {
   "cell_type": "code",
   "execution_count": 16,
   "metadata": {},
   "outputs": [
    {
     "name": "stdout",
     "output_type": "stream",
     "text": [
      "2002,2009,2016,2023,2037,2044,2051,2058,2072,2079,2086,2093,2107,2114,2121,2128,2142,2149,2156,2163,2177,2184,2191,2198,2212,2219,2226,2233,2247,2254,2261,2268,2282,2289,2296,2303,2317,2324,2331,2338,2352,2359,2366,2373,2387,2394,2401,2408,2422,2429,2436,2443,2457,2464,2471,2478,2492,2499,2506,2513,2527,2534,2541,2548,2562,2569,2576,2583,2597,2604,2611,2618,2632,2639,2646,2653,2667,2674,2681,2688,2702,2709,2716,2723,2737,2744,2751,2758,2772,2779,2786,2793,2807,2814,2821,2828,2842,2849,2856,2863,2877,2884,2891,2898,2912,2919,2926,2933,2947,2954,2961,2968,2982,2989,2996,3003,3017,3024,3031,3038,3052,3059,3066,3073,3087,3094,3101,3108,3122,3129,3136,3143,3157,3164,3171,3178,3192,3199\n"
     ]
    }
   ],
   "source": [
    "#exercise 2\n",
    "text=''\n",
    "s=','\n",
    "for i in range(2000,3201):\n",
    "    if (i%7==0)&(i%5!=0):\n",
    "        text=text+s+str(i)\n",
    "print(text[1:])"
   ]
  },
  {
   "cell_type": "markdown",
   "metadata": {},
   "source": [
    "#### Write a Python program to accept the user's first and last name and then getting them printed in the the reverse order with a space between first name and last name."
   ]
  },
  {
   "cell_type": "code",
   "execution_count": 48,
   "metadata": {},
   "outputs": [
    {
     "name": "stdout",
     "output_type": "stream",
     "text": [
      "name: David Julian Duarte\n",
      "['David', 'Julian', 'Duarte']\n"
     ]
    }
   ],
   "source": [
    "#exercise 3\n",
    "uname=input('name: ')\n",
    "lname=uname.split()\n",
    "print(lname)\n"
   ]
  },
  {
   "cell_type": "code",
   "execution_count": 51,
   "metadata": {},
   "outputs": [
    {
     "name": "stdout",
     "output_type": "stream",
     "text": [
      "Duarte Julian David\n"
     ]
    }
   ],
   "source": [
    "text=''\n",
    "s=' '\n",
    "for i in reversed(lname):\n",
    "    text=text+s+i\n",
    "print(text[1:])"
   ]
  },
  {
   "cell_type": "markdown",
   "metadata": {},
   "source": [
    "#### Write a Python program to find the volume of a sphere with diameter 12 cm.\n",
    "#### Formula: V=4/3 * π * r 3"
   ]
  },
  {
   "cell_type": "code",
   "execution_count": 53,
   "metadata": {},
   "outputs": [
    {
     "name": "stdout",
     "output_type": "stream",
     "text": [
      "the volume is: 904.7786842338603\n"
     ]
    }
   ],
   "source": [
    "#exercise 4\n",
    "from math import pi\n",
    "r=12/2\n",
    "v=4/3*pi*pow(r, 3)\n",
    "print(\"the volume is: \" + str(v))"
   ]
  },
  {
   "cell_type": "markdown",
   "metadata": {},
   "source": [
    "### Task 2"
   ]
  },
  {
   "cell_type": "markdown",
   "metadata": {},
   "source": [
    "#### Write a program which accepts a sequence of comma-separated numbers from console and generate a list."
   ]
  },
  {
   "cell_type": "code",
   "execution_count": 12,
   "metadata": {},
   "outputs": [
    {
     "name": "stdout",
     "output_type": "stream",
     "text": [
      "Enter a sequence of comma-separated numbers: 1,7,8,9\n",
      "['1', '7', '8', '9']\n"
     ]
    }
   ],
   "source": [
    "#exercise 1\n",
    "s=input(\"Enter a sequence of comma-separated numbers: \")\n",
    "l=s.split(\",\")\n",
    "print(l)"
   ]
  },
  {
   "cell_type": "markdown",
   "metadata": {},
   "source": [
    "#### Create the below pattern using nested for loop in Python"
   ]
  },
  {
   "cell_type": "code",
   "execution_count": 33,
   "metadata": {},
   "outputs": [
    {
     "name": "stdout",
     "output_type": "stream",
     "text": [
      "*\n",
      "**\n",
      "***\n",
      "****\n",
      "*****\n",
      "*****\n",
      "****\n",
      "***\n",
      "**\n",
      "*\n"
     ]
    }
   ],
   "source": [
    "#exercise 2\n",
    "i=1\n",
    "p=''\n",
    "for i in range(1,6):\n",
    "    p='*'+p\n",
    "    print(p)\n",
    "p2=''\n",
    "for i in range(5,0,-1):\n",
    "    p2=p[0:i]\n",
    "    print(p2)\n"
   ]
  },
  {
   "cell_type": "markdown",
   "metadata": {},
   "source": [
    "#### Write a Python program to reverse a word after accepting the input from the user."
   ]
  },
  {
   "cell_type": "code",
   "execution_count": 43,
   "metadata": {},
   "outputs": [
    {
     "name": "stdout",
     "output_type": "stream",
     "text": [
      "What is the text? AcadGild\n",
      "dliGdacA\n"
     ]
    }
   ],
   "source": [
    "text=input(\"What is the text? \")\n",
    "rtext=''\n",
    "for i in reversed(text):\n",
    "    rtext=rtext+str(i)\n",
    "print(rtext)"
   ]
  },
  {
   "cell_type": "markdown",
   "metadata": {},
   "source": [
    "#### Write a Python Program to print the given string in the format specified in the ​sample output."
   ]
  },
  {
   "cell_type": "markdown",
   "metadata": {},
   "source": [
    "WE, THE PEOPLE OF INDIA, having solemnly resolved to constitute India into a\n",
    "SOVEREIGN, SOCIALIST, SECULAR, DEMOCRATIC REPUBLIC and to secure to all\n",
    "its citizens"
   ]
  },
  {
   "cell_type": "markdown",
   "metadata": {},
   "source": [
    "WE, THE PEOPLE OF INDIA,<br> \n",
    "    having solemnly resolved to constitute India into a<br>\n",
    "        SOVEREIGN, SOCIALIST, SECULAR, DEMOCRATIC REPUBLIC<br>\n",
    "            and to secure to all its citizens<br>"
   ]
  },
  {
   "cell_type": "markdown",
   "metadata": {},
   "source": [
    "### Sorry, I try but i do not how make it!!"
   ]
  },
  {
   "cell_type": "code",
   "execution_count": 70,
   "metadata": {
    "code_folding": []
   },
   "outputs": [
    {
     "ename": "SyntaxError",
     "evalue": "unexpected EOF while parsing (<ipython-input-70-5d1f9813d85b>, line 10)",
     "output_type": "error",
     "traceback": [
      "\u001b[1;36m  File \u001b[1;32m\"<ipython-input-70-5d1f9813d85b>\"\u001b[1;36m, line \u001b[1;32m10\u001b[0m\n\u001b[1;33m    \u001b[0m\n\u001b[1;37m    ^\u001b[0m\n\u001b[1;31mSyntaxError\u001b[0m\u001b[1;31m:\u001b[0m unexpected EOF while parsing\n"
     ]
    }
   ],
   "source": [
    "s='WE, THE PEOPLE OF INDIA, having solemnly resolved to constitute India into a SOVEREIGN, SOCIALIST, SECULAR, DEMOCRATIC REPUBLIC and to secure to all its citizens'\n",
    "sentence=''\n",
    "for i in range(0,len(s)):\n",
    "    if s[i].islower:\n",
    "        \n",
    "# if(s[i].isupper() and not(s[i+1].islower())):\n",
    " #       print(s[i])\n",
    "    #if (i.isupper()!=(s[str(i)+1].isupper()):\n",
    "     #   print(str(i))\n",
    "        "
   ]
  },
  {
   "cell_type": "code",
   "execution_count": 82,
   "metadata": {
    "scrolled": true
   },
   "outputs": [
    {
     "name": "stdout",
     "output_type": "stream",
     "text": [
      "g\n",
      "k\n",
      "forg\n",
      "k\n"
     ]
    }
   ],
   "source": [
    "# https://www.geeksforgeeks.org/python-while-loops/\n",
    "# break the loop as soon it sees 'e' \n",
    "# or 's' \n",
    "i = 0\n",
    "a = 'geeksforgeeks'\n",
    "t = ''\n",
    "l = []\n",
    "\n",
    "while i < len(a): \n",
    "    if a[i] == 'e' or a[i] == 's': \n",
    "        i += 1\n",
    "        t=t+','\n",
    "        continue\n",
    "    t= t+a[i]\n",
    "    i += 1\n",
    "#print(t)  #Imprimendo el texto\n",
    "l=t.split(\",\")\n",
    "for i in l:\n",
    "    if i=='':\n",
    "        continue\n",
    "    print(i)\n"
   ]
  },
  {
   "cell_type": "code",
   "execution_count": 69,
   "metadata": {},
   "outputs": [
    {
     "name": "stdout",
     "output_type": "stream",
     "text": [
      " \n",
      "WETHEPEOPLEOFINDIAhavin,\n",
      "31\n"
     ]
    }
   ],
   "source": [
    "i=0\n",
    "s='WE, THE PEOPLE OF INDIA, having solemnly resolved, to constitute India into a SOVEREIGN, SOCIALIST, SECULAR, DEMOCRATIC REPUBLIC and to secure to all its citizens'\n",
    "t= ''\n",
    "while i < len(s):\n",
    "    if not(s[i].isalpha())==True:\n",
    "       i += 1\n",
    "       continue\n",
    "    if s[i].isupper()==s[i+1].islower():\n",
    "        i += 1\n",
    "        t = t+','\n",
    "        print(s[i])\n",
    "        break\n",
    "    t=t+s[i]\n",
    "    #print(t)\n",
    "    i += 1\n",
    "print(t)\n",
    "print(i)"
   ]
  },
  {
   "cell_type": "code",
   "execution_count": 46,
   "metadata": {},
   "outputs": [
    {
     "name": "stdout",
     "output_type": "stream",
     "text": [
      "Current Letter : g\n",
      "despues break 1\n",
      "i final 2\n"
     ]
    }
   ],
   "source": [
    "\n",
    "# Prints all letters except 'e' and 's'  \n",
    "i = 0\n",
    "a = 'geeksforgeeks'\n",
    "  \n",
    "while i < len(a):  \n",
    "    if a[i] == 'e' or a[i] == 's':  \n",
    "        i += 1\n",
    "        break\n",
    "    print('Current Letter :', a[i]) \n",
    "    i += 1\n",
    "    print(\"despues break \" + str(i))\n",
    "print(\"i final \" + str(i))"
   ]
  },
  {
   "cell_type": "code",
   "execution_count": 61,
   "metadata": {},
   "outputs": [
    {
     "name": "stdout",
     "output_type": "stream",
     "text": [
      "False\n",
      "False\n",
      "False\n"
     ]
    }
   ],
   "source": [
    "t=' '\n",
    "print(t.isalpha())\n",
    "print(t.islower())\n",
    "print(t.isupper())"
   ]
  },
  {
   "cell_type": "code",
   "execution_count": 10,
   "metadata": {},
   "outputs": [
    {
     "name": "stdout",
     "output_type": "stream",
     "text": [
      "['WE,', 'THE', 'PEOPLE', 'OF', 'INDIA,', 'having', 'solemnly', 'resolved,', 'to', 'constitute', 'India', 'into', 'a', 'SOVEREIGN,', 'SOCIALIST,', 'SECULAR,', 'DEMOCRATIC', 'REPUBLIC', 'and', 'to', 'secure', 'to', 'all', 'its', 'citizens']\n",
      "WE, THE PEOPLE OF INDIA,\n",
      "having solemnly resolved, to constitute India into a\n",
      "SOVEREIGN, SOCIALIST, SECULAR, DEMOCRATIC REPUBLIC\n",
      "and to secure to all its citizens\n"
     ]
    }
   ],
   "source": [
    "s='WE, THE PEOPLE OF INDIA, having solemnly resolved, to constitute India into a SOVEREIGN, SOCIALIST, SECULAR, DEMOCRATIC REPUBLIC and to secure to all its citizens'\n",
    "print(s.split(' '))\n",
    "import itertools\n",
    "print('\\n'.join(\n",
    "     ' '.join(w) for _, w in itertools.groupby(\n",
    "         s.split(' '),\n",
    "        lambda w: any(c.islower() for c in w)\n",
    "    )\n",
    " ))\n"
   ]
  },
  {
   "cell_type": "code",
   "execution_count": null,
   "metadata": {},
   "outputs": [],
   "source": []
  }
 ],
 "metadata": {
  "kernelspec": {
   "display_name": "Python 3",
   "language": "python",
   "name": "python3"
  },
  "language_info": {
   "codemirror_mode": {
    "name": "ipython",
    "version": 3
   },
   "file_extension": ".py",
   "mimetype": "text/x-python",
   "name": "python",
   "nbconvert_exporter": "python",
   "pygments_lexer": "ipython3",
   "version": "3.7.6"
  },
  "varInspector": {
   "cols": {
    "lenName": 16,
    "lenType": 16,
    "lenVar": 40
   },
   "kernels_config": {
    "python": {
     "delete_cmd_postfix": "",
     "delete_cmd_prefix": "del ",
     "library": "var_list.py",
     "varRefreshCmd": "print(var_dic_list())"
    },
    "r": {
     "delete_cmd_postfix": ") ",
     "delete_cmd_prefix": "rm(",
     "library": "var_list.r",
     "varRefreshCmd": "cat(var_dic_list()) "
    }
   },
   "oldHeight": 122.85,
   "position": {
    "height": "40px",
    "left": "822.8px",
    "right": "20px",
    "top": "120px",
    "width": "250px"
   },
   "types_to_exclude": [
    "module",
    "function",
    "builtin_function_or_method",
    "instance",
    "_Feature"
   ],
   "varInspector_section_display": "none",
   "window_display": true
  }
 },
 "nbformat": 4,
 "nbformat_minor": 4
}
